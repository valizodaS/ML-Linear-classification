{
 "cells": [
  {
   "cell_type": "code",
   "execution_count": 70,
   "metadata": {},
   "outputs": [],
   "source": [
    "import numpy as np\n",
    "path = 'c://users//s.valizoda//ML python//dataset//'\n",
    "\n",
    "def bytes_to_int(byte_data):\n",
    "    return int.from_bytes(byte_data, 'big')\n",
    "\n",
    "def readFile(filename, n_max_images=None):\n",
    "    images = []\n",
    "    with open(path+filename, 'rb') as f:\n",
    "        _ = f.read(4)  # magic number\n",
    "        n_images = bytes_to_int(f.read(4))\n",
    "        if n_max_images:\n",
    "            n_images = n_max_images\n",
    "        n_rows = bytes_to_int(f.read(4))\n",
    "        n_columns = bytes_to_int(f.read(4))\n",
    "        for image_idx in range(n_images):\n",
    "            image = []\n",
    "            for row_idx in range(n_rows):\n",
    "                row = []\n",
    "                for col_idx in range(n_columns):\n",
    "                    pixel = bytes_to_int(f.read(1))/255.0\n",
    "                    row.append(pixel)\n",
    "                image.append(row)\n",
    "            images.append(image)\n",
    "    return images\n",
    "def read_labels(filename, n_max_labels=None):\n",
    "    labels = []\n",
    "    with open(path + filename, 'rb') as f:\n",
    "        _ = f.read(4)  # magic number\n",
    "        n_labels = bytes_to_int(f.read(4))\n",
    "        if n_max_labels:\n",
    "            n_labels = n_max_labels\n",
    "        for label_idx in range(n_labels):\n",
    "            label = bytes_to_int(f.read(1))\n",
    "            labels.append(label)\n",
    "    return labels\n",
    "\n",
    "def ShowImage(sample):    \n",
    "    import matplotlib.pyplot as plt\n",
    "    plt.imshow(sample,cmap='Greys',interpolation='nearest')\n",
    "    plt.show()\n",
    "def normalize(a):\n",
    "    return a.reshape(len(a),len(a[0])*len(a[0][0]))"
   ]
  },
  {
   "cell_type": "code",
   "execution_count": 71,
   "metadata": {},
   "outputs": [],
   "source": [
    "trainFileName = 'train-images.idx3-ubyte'\n",
    "trainLabels   = 'train-labels.idx1-ubyte'\n",
    "testFileName  = 't10k-images.idx3-ubyte'\n",
    "testLabels    = 't10k-labels.idx1-ubyte'\n",
    "\n",
    "# read files\n",
    "N = 6000\n",
    "X_Train  = np.array(readFile(trainFileName, N))  # Nx28x28\n",
    "X_labels = np.array(read_labels(trainLabels, N)) # NX1\n",
    "\n",
    "# normalizing the data\n",
    "X_Train  = normalize(X_Train)                    # Nx784\n",
    "\n",
    "N = 10\n",
    "X_test    = np.array(readFile(testFileName,N))\n",
    "X_test    = normalize(X_test)\n",
    "XT_labels = np.array(read_labels(testLabels,N))"
   ]
  },
  {
   "cell_type": "code",
   "execution_count": 72,
   "metadata": {},
   "outputs": [],
   "source": [
    "X_labels = X_labels == 1\n",
    "X_labels = X_labels*1\n",
    "XT_labels = XT_labels==1\n",
    "XT_labels = XT_labels * 1"
   ]
  },
  {
   "cell_type": "code",
   "execution_count": 89,
   "metadata": {},
   "outputs": [],
   "source": [
    "\n",
    "\n",
    "def learnLinear(X, y):\n",
    "    return np.ones(len(X[0])+1)\n",
    "\n",
    "\n",
    "\n",
    "def predict(x, thetas):\n",
    "    if x.ndim == 1:\n",
    "        x = np.insert(x,0,np.ones(1))\n",
    "    else:\n",
    "        x = np.insert(x,0,np.ones(len(x)), axis=1)\n",
    "    return 1/(1+np.exp(-x.dot(thetas)))   \n",
    "\n",
    "def cost(x,y,thetas):\n",
    "    return -( y*np.log(predict(x,thetas)) + (1-y)*np.log(1-predict(x,thetas))   ) "
   ]
  },
  {
   "cell_type": "code",
   "execution_count": 90,
   "metadata": {},
   "outputs": [
    {
     "name": "stdout",
     "output_type": "stream",
     "text": [
      "[1. 1. 1. 1. 1. 1. 1. 1. 1. 1.]\n"
     ]
    }
   ],
   "source": [
    "thetas = learnLinear(X_Train, X_labels)\n",
    "pred = predict(X_test, thetas)\n",
    "print(pred)"
   ]
  },
  {
   "cell_type": "code",
   "execution_count": 91,
   "metadata": {},
   "outputs": [
    {
     "name": "stderr",
     "output_type": "stream",
     "text": [
      "<ipython-input-89-041e4f68d3f2>:14: RuntimeWarning: divide by zero encountered in log\n",
      "  return -( y*np.log(predict(x,thetas)) + (1-y)*np.log(1-predict(x,thetas))   )\n"
     ]
    },
    {
     "data": {
      "text/plain": [
       "inf"
      ]
     },
     "execution_count": 91,
     "metadata": {},
     "output_type": "execute_result"
    }
   ],
   "source": [
    "cost(X_test[0], XT_labels[0], thetas)"
   ]
  },
  {
   "cell_type": "code",
   "execution_count": 92,
   "metadata": {},
   "outputs": [
    {
     "data": {
      "text/plain": [
       "1.0"
      ]
     },
     "execution_count": 92,
     "metadata": {},
     "output_type": "execute_result"
    }
   ],
   "source": [
    "predict(X_test[0],thetas)"
   ]
  },
  {
   "cell_type": "code",
   "execution_count": 95,
   "metadata": {},
   "outputs": [
    {
     "name": "stderr",
     "output_type": "stream",
     "text": [
      "<ipython-input-95-176f51288b63>:1: RuntimeWarning: divide by zero encountered in log\n",
      "  0.5*np.log(predict(X_test[0],thetas)) + (1-0.5)*np.log(1-predict(X_test[0],thetas))\n"
     ]
    },
    {
     "data": {
      "text/plain": [
       "-inf"
      ]
     },
     "execution_count": 95,
     "metadata": {},
     "output_type": "execute_result"
    }
   ],
   "source": [
    " 0.5*np.log(predict(X_test[0],thetas)) + (1-0.5)*np.log(1-predict(X_test[0],thetas)) "
   ]
  },
  {
   "cell_type": "code",
   "execution_count": 97,
   "metadata": {},
   "outputs": [
    {
     "name": "stderr",
     "output_type": "stream",
     "text": [
      "<ipython-input-97-1159de10a6f1>:2: RuntimeWarning: divide by zero encountered in log\n",
      "  np.log(1-predict(X_test[0],thetas))\n"
     ]
    },
    {
     "data": {
      "text/plain": [
       "-inf"
      ]
     },
     "execution_count": 97,
     "metadata": {},
     "output_type": "execute_result"
    }
   ],
   "source": [
    "np.log(predict(X_test[0],thetas))\n",
    "np.log(1-predict(X_test[0],thetas))"
   ]
  },
  {
   "cell_type": "code",
   "execution_count": 101,
   "metadata": {},
   "outputs": [
    {
     "ename": "ValueError",
     "evalue": "shapes (784,) and (785,) not aligned: 784 (dim 0) != 785 (dim 0)",
     "output_type": "error",
     "traceback": [
      "\u001b[1;31m---------------------------------------------------------------------------\u001b[0m",
      "\u001b[1;31mValueError\u001b[0m                                Traceback (most recent call last)",
      "\u001b[1;32m<ipython-input-101-07329a492374>\u001b[0m in \u001b[0;36m<module>\u001b[1;34m\u001b[0m\n\u001b[1;32m----> 1\u001b[1;33m \u001b[0mnp\u001b[0m\u001b[1;33m.\u001b[0m\u001b[0mexp\u001b[0m\u001b[1;33m(\u001b[0m\u001b[0mX_test\u001b[0m\u001b[1;33m[\u001b[0m\u001b[1;36m0\u001b[0m\u001b[1;33m]\u001b[0m\u001b[1;33m.\u001b[0m\u001b[0mdot\u001b[0m\u001b[1;33m(\u001b[0m\u001b[0mthetas\u001b[0m\u001b[1;33m)\u001b[0m\u001b[1;33m)\u001b[0m\u001b[1;33m\u001b[0m\u001b[1;33m\u001b[0m\u001b[0m\n\u001b[0m",
      "\u001b[1;31mValueError\u001b[0m: shapes (784,) and (785,) not aligned: 784 (dim 0) != 785 (dim 0)"
     ]
    }
   ],
   "source": [
    "\n"
   ]
  },
  {
   "cell_type": "code",
   "execution_count": 102,
   "metadata": {},
   "outputs": [],
   "source": [
    "x = np.insert(X_test[0],0,np.ones(1))"
   ]
  },
  {
   "cell_type": "code",
   "execution_count": 111,
   "metadata": {},
   "outputs": [
    {
     "name": "stdout",
     "output_type": "stream",
     "text": [
      "-inf\n"
     ]
    },
    {
     "name": "stderr",
     "output_type": "stream",
     "text": [
      "<ipython-input-111-1ef2547b2488>:1: RuntimeWarning: divide by zero encountered in log\n",
      "  print(np.log(1-1/(1+np.exp(-x.dot(thetas)))) * 100000000000000000000000000000000000000000000)\n"
     ]
    }
   ],
   "source": [
    "print(np.log(1-1/(1+np.exp(-x.dot(thetas)))) * 100000000000000000000000000000000000000000000)\n"
   ]
  },
  {
   "cell_type": "code",
   "execution_count": 114,
   "metadata": {},
   "outputs": [
    {
     "data": {
      "text/plain": [
       "nan"
      ]
     },
     "execution_count": 114,
     "metadata": {},
     "output_type": "execute_result"
    }
   ],
   "source": [
    "np.inf+np.inf-np.inf"
   ]
  },
  {
   "cell_type": "code",
   "execution_count": 115,
   "metadata": {},
   "outputs": [
    {
     "ename": "ZeroDivisionError",
     "evalue": "division by zero",
     "output_type": "error",
     "traceback": [
      "\u001b[1;31m---------------------------------------------------------------------------\u001b[0m",
      "\u001b[1;31mZeroDivisionError\u001b[0m                         Traceback (most recent call last)",
      "\u001b[1;32m<ipython-input-115-9e1622b385b6>\u001b[0m in \u001b[0;36m<module>\u001b[1;34m\u001b[0m\n\u001b[1;32m----> 1\u001b[1;33m \u001b[1;36m1\u001b[0m\u001b[1;33m/\u001b[0m\u001b[1;36m0\u001b[0m\u001b[1;33m\u001b[0m\u001b[1;33m\u001b[0m\u001b[0m\n\u001b[0m",
      "\u001b[1;31mZeroDivisionError\u001b[0m: division by zero"
     ]
    }
   ],
   "source": [
    "1/0"
   ]
  },
  {
   "cell_type": "code",
   "execution_count": null,
   "metadata": {},
   "outputs": [],
   "source": []
  }
 ],
 "metadata": {
  "kernelspec": {
   "display_name": "Python 3",
   "language": "python",
   "name": "python3"
  },
  "language_info": {
   "codemirror_mode": {
    "name": "ipython",
    "version": 3
   },
   "file_extension": ".py",
   "mimetype": "text/x-python",
   "name": "python",
   "nbconvert_exporter": "python",
   "pygments_lexer": "ipython3",
   "version": "3.8.5"
  }
 },
 "nbformat": 4,
 "nbformat_minor": 4
}
